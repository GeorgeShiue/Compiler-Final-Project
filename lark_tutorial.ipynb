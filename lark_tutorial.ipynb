{
 "cells": [
  {
   "cell_type": "markdown",
   "metadata": {},
   "source": [
    "# JSON parser - Tutorial"
   ]
  },
  {
   "cell_type": "markdown",
   "metadata": {},
   "source": [
    "## Creating the Parser"
   ]
  },
  {
   "cell_type": "code",
   "execution_count": 1,
   "metadata": {},
   "outputs": [],
   "source": [
    "from lark import Lark\n",
    "json_parser = Lark(r\"\"\"\n",
    "    value: dict\n",
    "         | list\n",
    "         | ESCAPED_STRING\n",
    "         | SIGNED_NUMBER\n",
    "         | \"true\" | \"false\" | \"null\"\n",
    "\n",
    "    list : \"[\" [value (\",\" value)*] \"]\"\n",
    "\n",
    "    dict : \"{\" [pair (\",\" pair)*] \"}\"\n",
    "    pair : ESCAPED_STRING \":\" value\n",
    "\n",
    "    %import common.ESCAPED_STRING\n",
    "    %import common.SIGNED_NUMBER\n",
    "    %import common.WS\n",
    "    %ignore WS\n",
    "\n",
    "    \"\"\", start='value')"
   ]
  },
  {
   "cell_type": "code",
   "execution_count": 2,
   "metadata": {},
   "outputs": [
    {
     "data": {
      "text/plain": [
       "Tree(Token('RULE', 'value'), [Tree(Token('RULE', 'dict'), [Tree(Token('RULE', 'pair'), [Token('ESCAPED_STRING', '\"key\"'), Tree(Token('RULE', 'value'), [Tree(Token('RULE', 'list'), [Tree(Token('RULE', 'value'), [Token('ESCAPED_STRING', '\"item0\"')]), Tree(Token('RULE', 'value'), [Token('ESCAPED_STRING', '\"item1\"')]), Tree(Token('RULE', 'value'), [Token('SIGNED_NUMBER', '3.14')])])])])])])"
      ]
     },
     "execution_count": 2,
     "metadata": {},
     "output_type": "execute_result"
    }
   ],
   "source": [
    "text = '{\"key\": [\"item0\", \"item1\", 3.14]}'\n",
    "json_parser.parse(text)"
   ]
  },
  {
   "cell_type": "code",
   "execution_count": 3,
   "metadata": {},
   "outputs": [
    {
     "name": "stdout",
     "output_type": "stream",
     "text": [
      "value\n",
      "  dict\n",
      "    pair\n",
      "      \"key\"\n",
      "      value\n",
      "        list\n",
      "          value\t\"item0\"\n",
      "          value\t\"item1\"\n",
      "          value\t3.14\n",
      "\n"
     ]
    }
   ],
   "source": [
    "print( _.pretty() )"
   ]
  }
 ],
 "metadata": {
  "kernelspec": {
   "display_name": "lark",
   "language": "python",
   "name": "python3"
  },
  "language_info": {
   "codemirror_mode": {
    "name": "ipython",
    "version": 3
   },
   "file_extension": ".py",
   "mimetype": "text/x-python",
   "name": "python",
   "nbconvert_exporter": "python",
   "pygments_lexer": "ipython3",
   "version": "3.12.7"
  }
 },
 "nbformat": 4,
 "nbformat_minor": 2
}
