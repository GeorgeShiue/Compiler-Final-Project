{
 "cells": [
  {
   "cell_type": "markdown",
   "metadata": {},
   "source": [
    "# JSON parser - Tutorial"
   ]
  },
  {
   "cell_type": "markdown",
   "metadata": {},
   "source": [
    "## Creating the Parser"
   ]
  },
  {
   "cell_type": "code",
   "execution_count": 29,
   "metadata": {},
   "outputs": [],
   "source": [
    "from lark import Lark\n",
    "json_parser = Lark(r\"\"\"\n",
    "    value: dict\n",
    "         | list\n",
    "         | ESCAPED_STRING\n",
    "         | SIGNED_NUMBER\n",
    "         | \"true\" | \"false\" | \"null\"\n",
    "\n",
    "    list : \"[\" [value (\",\" value)*] \"]\"\n",
    "\n",
    "    dict : \"{\" [pair (\",\" pair)*] \"}\"\n",
    "    pair : ESCAPED_STRING \":\" value\n",
    "\n",
    "    %import common.ESCAPED_STRING\n",
    "    %import common.SIGNED_NUMBER\n",
    "    %import common.WS\n",
    "    %ignore WS\n",
    "\n",
    "    \"\"\", start='value')"
   ]
  },
  {
   "cell_type": "code",
   "execution_count": 30,
   "metadata": {},
   "outputs": [
    {
     "data": {
      "text/plain": [
       "Tree(Token('RULE', 'value'), [Tree(Token('RULE', 'dict'), [Tree(Token('RULE', 'pair'), [Token('ESCAPED_STRING', '\"key\"'), Tree(Token('RULE', 'value'), [Tree(Token('RULE', 'list'), [Tree(Token('RULE', 'value'), [Token('ESCAPED_STRING', '\"item0\"')]), Tree(Token('RULE', 'value'), [Token('ESCAPED_STRING', '\"item1\"')]), Tree(Token('RULE', 'value'), [Token('SIGNED_NUMBER', '3.14')])])])])])])"
      ]
     },
     "execution_count": 30,
     "metadata": {},
     "output_type": "execute_result"
    }
   ],
   "source": [
    "text = '{\"key\": [\"item0\", \"item1\", 3.14]}'\n",
    "json_parser.parse(text)"
   ]
  },
  {
   "cell_type": "code",
   "execution_count": 31,
   "metadata": {},
   "outputs": [
    {
     "name": "stdout",
     "output_type": "stream",
     "text": [
      "value\n",
      "  dict\n",
      "    pair\n",
      "      \"key\"\n",
      "      value\n",
      "        list\n",
      "          value\t\"item0\"\n",
      "          value\t\"item1\"\n",
      "          value\t3.14\n",
      "\n"
     ]
    }
   ],
   "source": [
    "print(_.pretty())"
   ]
  },
  {
   "cell_type": "markdown",
   "metadata": {},
   "source": [
    "## Shaping the Tree"
   ]
  },
  {
   "cell_type": "code",
   "execution_count": 32,
   "metadata": {},
   "outputs": [],
   "source": [
    "from lark import Lark\n",
    "json_parser = Lark(r\"\"\"\n",
    "    ?value: dict\n",
    "          | list\n",
    "          | string\n",
    "          | SIGNED_NUMBER      -> number\n",
    "          | \"true\"             -> true\n",
    "          | \"false\"            -> false\n",
    "          | \"null\"             -> null\n",
    "\n",
    "    list : \"[\" [value (\",\" value)*] \"]\"\n",
    "\n",
    "    dict : \"{\" [pair (\",\" pair)*] \"}\"\n",
    "    pair : string \":\" value\n",
    "\n",
    "    string : ESCAPED_STRING\n",
    "\n",
    "    %import common.ESCAPED_STRING\n",
    "    %import common.SIGNED_NUMBER\n",
    "    %import common.WS\n",
    "    %ignore WS\n",
    "\n",
    "    \"\"\", start='value')"
   ]
  },
  {
   "cell_type": "code",
   "execution_count": 33,
   "metadata": {},
   "outputs": [
    {
     "name": "stdout",
     "output_type": "stream",
     "text": [
      "dict\n",
      "  pair\n",
      "    string\t\"key\"\n",
      "    list\n",
      "      string\t\"item0\"\n",
      "      string\t\"item1\"\n",
      "      number\t3.14\n",
      "      true\n",
      "\n"
     ]
    }
   ],
   "source": [
    "text = '{\"key\": [\"item0\", \"item1\", 3.14, true]}'\n",
    "print( json_parser.parse(text).pretty() )"
   ]
  },
  {
   "cell_type": "markdown",
   "metadata": {},
   "source": [
    "## Evaluating the tree"
   ]
  },
  {
   "cell_type": "code",
   "execution_count": 34,
   "metadata": {},
   "outputs": [],
   "source": [
    "from lark import Transformer\n",
    "\n",
    "class MyTransformer(Transformer):\n",
    "    def list(self, items):\n",
    "        return list(items)\n",
    "    def pair(self, key_value):\n",
    "        k, v = key_value\n",
    "        return k, v\n",
    "    def dict(self, items):\n",
    "        return dict(items)"
   ]
  },
  {
   "cell_type": "code",
   "execution_count": 35,
   "metadata": {},
   "outputs": [
    {
     "data": {
      "text/plain": [
       "{Tree(Token('RULE', 'string'), [Token('ESCAPED_STRING', '\"key\"')]): [Tree(Token('RULE', 'string'), [Token('ESCAPED_STRING', '\"item0\"')]),\n",
       "  Tree(Token('RULE', 'string'), [Token('ESCAPED_STRING', '\"item1\"')]),\n",
       "  Tree('number', [Token('SIGNED_NUMBER', '3.14')]),\n",
       "  Tree('true', [])]}"
      ]
     },
     "execution_count": 35,
     "metadata": {},
     "output_type": "execute_result"
    }
   ],
   "source": [
    "tree = json_parser.parse(text)\n",
    "MyTransformer().transform(tree)"
   ]
  },
  {
   "cell_type": "code",
   "execution_count": 38,
   "metadata": {},
   "outputs": [],
   "source": [
    "from lark import Transformer\n",
    "\n",
    "class TreeToJson(Transformer):\n",
    "    def string(self, s):\n",
    "        (s,) = s\n",
    "        return s[1:-1]\n",
    "    def number(self, n):\n",
    "        # print(n)\n",
    "        (n,) = n\n",
    "        # print(n)\n",
    "        return float(n)\n",
    "\n",
    "    list = list\n",
    "    pair = tuple\n",
    "    dict = dict\n",
    "\n",
    "    null = lambda self, _: None\n",
    "    true = lambda self, _: True\n",
    "    false = lambda self, _: False"
   ]
  },
  {
   "cell_type": "code",
   "execution_count": 39,
   "metadata": {},
   "outputs": [
    {
     "name": "stdout",
     "output_type": "stream",
     "text": [
      "[Token('SIGNED_NUMBER', '3.14')]\n",
      "3.14\n"
     ]
    },
    {
     "data": {
      "text/plain": [
       "{'key': ['item0', 'item1', 3.14, True]}"
      ]
     },
     "execution_count": 39,
     "metadata": {},
     "output_type": "execute_result"
    }
   ],
   "source": [
    "tree = json_parser.parse(text)\n",
    "TreeToJson().transform(tree)"
   ]
  },
  {
   "cell_type": "markdown",
   "metadata": {},
   "source": [
    "# Basic calculator"
   ]
  },
  {
   "cell_type": "code",
   "execution_count": 19,
   "metadata": {},
   "outputs": [],
   "source": [
    "from lark import Lark, Transformer, v_args\n",
    "\n",
    "calc_grammar = \"\"\"\n",
    "    ?start: sum\n",
    "          | NAME \"=\" sum    -> assign_var\n",
    "\n",
    "    ?sum: product\n",
    "        | sum \"+\" product   -> add\n",
    "        | sum \"-\" product   -> sub\n",
    "\n",
    "    ?product: atom\n",
    "        | product \"*\" atom  -> mul\n",
    "        | product \"/\" atom  -> div\n",
    "\n",
    "    ?atom: NUMBER           -> number\n",
    "         | \"-\" atom         -> neg\n",
    "         | NAME             -> var\n",
    "         | \"(\" sum \")\"\n",
    "\n",
    "    %import common.CNAME -> NAME\n",
    "    %import common.NUMBER\n",
    "    %import common.WS_INLINE\n",
    "\n",
    "    %ignore WS_INLINE\n",
    "\"\"\"\n",
    "\n",
    "\n",
    "@v_args(inline=True)    # Affects the signatures of the methods\n",
    "class CalculateTree(Transformer):\n",
    "    from operator import add, sub, mul, truediv as div, neg\n",
    "    number = float\n",
    "\n",
    "    def __init__(self):\n",
    "        self.vars = {}\n",
    "\n",
    "    def assign_var(self, name, value):\n",
    "        self.vars[name] = value\n",
    "        return value\n",
    "\n",
    "    def var(self, name):\n",
    "        try:\n",
    "            return self.vars[name]\n",
    "        except KeyError:\n",
    "            raise Exception(\"Variable not found: %s\" % name)\n",
    "\n",
    "\n",
    "calc_parser = Lark(calc_grammar, parser='lalr', transformer=CalculateTree())\n",
    "calc = calc_parser.parse\n",
    "\n",
    "\n",
    "def main():\n",
    "    while True:\n",
    "        try:\n",
    "            s = input('> ')\n",
    "        except EOFError:\n",
    "            break\n",
    "        print(calc(s))\n",
    "\n",
    "\n",
    "def test():\n",
    "    print(calc(\"a = 1+2\"))\n",
    "    print(calc(\"1+a*-3\"))\n",
    "\n",
    "\n",
    "# if __name__ == '__main__':\n",
    "#     # test()\n",
    "#     main()"
   ]
  },
  {
   "cell_type": "code",
   "execution_count": 20,
   "metadata": {},
   "outputs": [
    {
     "name": "stdout",
     "output_type": "stream",
     "text": [
      "3.0\n",
      "-8.0\n"
     ]
    }
   ],
   "source": [
    "test()"
   ]
  },
  {
   "cell_type": "markdown",
   "metadata": {},
   "source": [
    "# Creating an AST from the parse tree"
   ]
  },
  {
   "cell_type": "code",
   "execution_count": 23,
   "metadata": {},
   "outputs": [],
   "source": [
    "import sys\n",
    "from typing import List\n",
    "from dataclasses import dataclass\n",
    "\n",
    "from lark import Lark, ast_utils, Transformer, v_args\n",
    "from lark.tree import Meta\n",
    "\n",
    "this_module = sys.modules[__name__]\n",
    "\n",
    "\n",
    "#\n",
    "#   Define AST\n",
    "#\n",
    "class _Ast(ast_utils.Ast):\n",
    "    # This will be skipped by create_transformer(), because it starts with an underscore\n",
    "    pass\n",
    "\n",
    "class _Statement(_Ast):\n",
    "    # This will be skipped by create_transformer(), because it starts with an underscore\n",
    "    pass\n",
    "\n",
    "@dataclass\n",
    "class Value(_Ast, ast_utils.WithMeta):\n",
    "    \"Uses WithMeta to include line-number metadata in the meta attribute\"\n",
    "    meta: Meta\n",
    "    value: object\n",
    "\n",
    "@dataclass\n",
    "class Name(_Ast):\n",
    "    name: str\n",
    "\n",
    "@dataclass\n",
    "class CodeBlock(_Ast, ast_utils.AsList):\n",
    "    # Corresponds to code_block in the grammar\n",
    "    statements: List[_Statement]\n",
    "\n",
    "@dataclass\n",
    "class If(_Statement):\n",
    "    cond: Value\n",
    "    then: CodeBlock\n",
    "\n",
    "@dataclass\n",
    "class SetVar(_Statement):\n",
    "    # Corresponds to set_var in the grammar\n",
    "    name: str\n",
    "    value: Value\n",
    "\n",
    "@dataclass\n",
    "class Print(_Statement):\n",
    "    value: Value\n",
    "\n",
    "\n",
    "class ToAst(Transformer):\n",
    "    # Define extra transformation functions, for rules that don't correspond to an AST class.\n",
    "\n",
    "    def STRING(self, s):\n",
    "        # Remove quotation marks\n",
    "        return s[1:-1]\n",
    "\n",
    "    def DEC_NUMBER(self, n):\n",
    "        return int(n)\n",
    "\n",
    "    @v_args(inline=True)\n",
    "    def start(self, x):\n",
    "        return x\n",
    "\n",
    "#\n",
    "#   Define Parser\n",
    "#\n",
    "\n",
    "parser = Lark(\"\"\"\n",
    "    start: code_block\n",
    "\n",
    "    code_block: statement+\n",
    "\n",
    "    ?statement: if | set_var | print\n",
    "\n",
    "    if: \"if\" value \"{\" code_block \"}\"\n",
    "    set_var: NAME \"=\" value \";\"\n",
    "    print: \"print\" value \";\"\n",
    "\n",
    "    value: name | STRING | DEC_NUMBER\n",
    "    name: NAME\n",
    "\n",
    "    %import python (NAME, STRING, DEC_NUMBER)\n",
    "    %import common.WS\n",
    "    %ignore WS\n",
    "    \"\"\",\n",
    "    parser=\"lalr\",\n",
    ")\n",
    "\n",
    "transformer = ast_utils.create_transformer(this_module, ToAst())\n",
    "\n",
    "def parse(text):\n",
    "    tree = parser.parse(text)\n",
    "    return transformer.transform(tree)\n",
    "\n",
    "#\n",
    "#   Test\n",
    "#\n",
    "\n",
    "# if __name__ == '__main__':\n",
    "#     print(parse(\"\"\"\n",
    "#         a = 1;\n",
    "#         if a {\n",
    "#             print \"a is 1\";\n",
    "#             a = 2;\n",
    "#         }\n",
    "#     \"\"\"))"
   ]
  },
  {
   "cell_type": "code",
   "execution_count": 25,
   "metadata": {},
   "outputs": [
    {
     "data": {
      "text/plain": [
       "CodeBlock(statements=[SetVar(name=Token('NAME', 'a'), value=Value(meta=<lark.tree.Meta object at 0x0000024D3A3141D0>, value=1)), If(cond=Value(meta=<lark.tree.Meta object at 0x0000024D3A314890>, value=Name(name=Token('NAME', 'a'))), then=CodeBlock(statements=[Print(value=Value(meta=<lark.tree.Meta object at 0x0000024D3A314920>, value='a is 1')), SetVar(name=Token('NAME', 'a'), value=Value(meta=<lark.tree.Meta object at 0x0000024D3A315F40>, value=2))]))])"
      ]
     },
     "execution_count": 25,
     "metadata": {},
     "output_type": "execute_result"
    }
   ],
   "source": [
    "text = \"\"\"\n",
    "    a = 1;\n",
    "    if a {\n",
    "        print \"a is 1\";\n",
    "        a = 2;\n",
    "    }\n",
    "\"\"\"\n",
    "parse(text)"
   ]
  }
 ],
 "metadata": {
  "kernelspec": {
   "display_name": "lark",
   "language": "python",
   "name": "python3"
  },
  "language_info": {
   "codemirror_mode": {
    "name": "ipython",
    "version": 3
   },
   "file_extension": ".py",
   "mimetype": "text/x-python",
   "name": "python",
   "nbconvert_exporter": "python",
   "pygments_lexer": "ipython3",
   "version": "3.12.8"
  }
 },
 "nbformat": 4,
 "nbformat_minor": 2
}
